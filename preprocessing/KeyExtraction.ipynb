{
 "cells": [
  {
   "cell_type": "code",
   "execution_count": 11,
   "metadata": {},
   "outputs": [],
   "source": [
    "SUMMARIZED_SPEECH_DIRECTORY = './Data/Summarized Speech/'"
   ]
  },
  {
   "cell_type": "code",
   "execution_count": 1,
   "metadata": {},
   "outputs": [
    {
     "name": "stderr",
     "output_type": "stream",
     "text": [
      "e:\\Programs\\Anaconda\\envs\\699\\Lib\\site-packages\\tqdm\\auto.py:21: TqdmWarning: IProgress not found. Please update jupyter and ipywidgets. See https://ipywidgets.readthedocs.io/en/stable/user_install.html\n",
      "  from .autonotebook import tqdm as notebook_tqdm\n",
      "Fetching 1 files: 100%|██████████| 1/1 [00:00<00:00, 64.29it/s]\n",
      "Fetching 1 files: 100%|██████████| 1/1 [00:00<?, ?it/s]\n"
     ]
    }
   ],
   "source": [
    "from ctransformers import AutoModelForCausalLM\n",
    "\n",
    "# Set gpu_layers to the number of layers to offload to GPU. Set to 0 if no GPU acceleration is available on your system.\n",
    "model = AutoModelForCausalLM.from_pretrained(\n",
    "    \"TheBloke/Mistral-7B-Instruct-v0.1-GGUF\",\n",
    "    model_file=\"mistral-7b-instruct-v0.1.Q4_K_M.gguf\",\n",
    "    model_type=\"mistral\",\n",
    "    gpu_layers=50,\n",
    "    hf=True\n",
    ")"
   ]
  },
  {
   "cell_type": "code",
   "execution_count": 2,
   "metadata": {},
   "outputs": [],
   "source": [
    "from transformers import AutoTokenizer, pipeline\n",
    "\n",
    "# Tokenizer\n",
    "tokenizer = AutoTokenizer.from_pretrained(\"mistralai/Mistral-7B-Instruct-v0.1\")\n",
    "\n",
    "# Pipeline\n",
    "generator = pipeline(\n",
    "    model=model, tokenizer=tokenizer,\n",
    "    task='text-generation',\n",
    "    max_new_tokens=4,\n",
    "    repetition_penalty=1.1\n",
    ")"
   ]
  },
  {
   "cell_type": "code",
   "execution_count": 120,
   "metadata": {},
   "outputs": [],
   "source": [
    "example_prompt = \"\"\"\n",
    "<s>[INST]\n",
    "I have the following document:\n",
    "- The website mentions that it only takes a couple of days to deliver but I still have not received mine.\n",
    "\n",
    "Please give me the keywords that are present in this document and separate them with commas.\n",
    "Make sure you to only return the keywords and say nothing else. For example, don't say:\n",
    "\"Here are the keywords present in the document\"\n",
    "[/INST] meat, beef, eat, eating, emissions, steak, food, health, processed, chicken</s>\"\"\""
   ]
  },
  {
   "cell_type": "code",
   "execution_count": 121,
   "metadata": {},
   "outputs": [],
   "source": [
    "keyword_prompt = \"\"\"\n",
    "[INST]\n",
    "\n",
    "I have the following document:\n",
    "- [DOCUMENT]\n",
    "\n",
    "Please give me the keywords that are present in this document and separate them with commas.\n",
    "Make sure you to only return the keywords and say nothing else. For example, don't say:\n",
    "\"Here are the keywords present in the document\"\n",
    "[/INST]\n",
    "\"\"\""
   ]
  },
  {
   "cell_type": "code",
   "execution_count": 122,
   "metadata": {},
   "outputs": [
    {
     "name": "stdout",
     "output_type": "stream",
     "text": [
      "\n",
      "<s>[INST]\n",
      "I have the following document:\n",
      "- The website mentions that it only takes a couple of days to deliver but I still have not received mine.\n",
      "\n",
      "Please give me the keywords that are present in this document and separate them with commas.\n",
      "Make sure you to only return the keywords and say nothing else. For example, don't say:\n",
      "\"Here are the keywords present in the document\"\n",
      "[/INST] meat, beef, eat, eating, emissions, steak, food, health, processed, chicken</s>\n",
      "[INST]\n",
      "\n",
      "I have the following document:\n",
      "- [DOCUMENT]\n",
      "\n",
      "Please give me the keywords that are present in this document and separate them with commas.\n",
      "Make sure you to only return the keywords and say nothing else. For example, don't say:\n",
      "\"Here are the keywords present in the document\"\n",
      "[/INST]\n",
      "\n"
     ]
    }
   ],
   "source": [
    "prompt = example_prompt + keyword_prompt\n",
    "print(prompt)"
   ]
  },
  {
   "cell_type": "code",
   "execution_count": 123,
   "metadata": {},
   "outputs": [],
   "source": [
    "from keybert.llm import TextGeneration\n",
    "from keybert import KeyLLM\n",
    "\n",
    "# Load it in KeyLLM\n",
    "llm = TextGeneration(generator, prompt=prompt)\n",
    "kw_model = KeyLLM(llm)"
   ]
  },
  {
   "cell_type": "code",
   "execution_count": 57,
   "metadata": {},
   "outputs": [],
   "source": [
    "import os\n",
    "from collections import Counter\n",
    "import pandas as pd\n",
    "final_df = pd.DataFrame(columns=['FileName','Keyword','Count'])\n",
    "\n",
    "for f in os.listdir(SUMMARIZED_SPEECH_DIRECTORY):\n",
    "    file_path = SUMMARIZED_SPEECH_DIRECTORY+f\n",
    "    with open(file_path,'r') as file:\n",
    "        summary = file.read()\n",
    "        documents = summary.split('\\n')\n",
    "        keywords = kw_model.extract_keywords(documents)\n",
    "\n",
    "        keywords_flatten = [item for keyword in keywords for item in keyword]\n",
    "\n",
    "        \n",
    "        keyword_counter = Counter(keywords_flatten)\n",
    "\n",
    "        df = pd.DataFrame.from_dict(keyword_counter,orient='index').reset_index()\n",
    "        df.columns = ['Keyword','Count']\n",
    "        df['FileName'] = f\n",
    "        df = df[['FileName','Keyword','Count']] \n",
    "\n",
    "        final_df = pd.concat([final_df,df])\n",
    "\n",
    "\n",
    "final_df.to_csv('./Data/Keyword.csv',sep='\\t',index=False)    "
   ]
  },
  {
   "cell_type": "code",
   "execution_count": 130,
   "metadata": {},
   "outputs": [],
   "source": [
    "file_path = './Data/test/USA_25_1970.txt'\n",
    "\n",
    "with open(file_path,'r') as file:\n",
    "    summary = file.read()\n",
    "    documents = summary.split('\\n')\n",
    "\n"
   ]
  },
  {
   "cell_type": "code",
   "execution_count": 84,
   "metadata": {},
   "outputs": [],
   "source": [
    "summary = \"\"\"I thank Secretary-General Ban Ki-moon for his tireless efforts and wise leadership in support of fundamental freedoms, the rule of law and justice for all over a decade. It is my distinct pleasure to attend the seventy-first session of the General Assembly. I sincerely congratulate Ambassador Peter Thomson of the Republic of Fiji on having been elected to the presidency.\n",
    "We believe that the United Nations remains the single most important international body for promoting global peace, security and prosperity. The United Nations vital role in helping Afghanistan to transition into a democratic and pluralistic society is a clear example of its profound impact.\n",
    "The Afghan nation has inherited a legacy of conflict, oppression, discrimination and inequality. We believe that democracy is the best solution to these problems, as it provides the only foundation to ensure justice and equality.\n",
    "Our Government has registered considerable achievements in different areas over the past two years. We are pursuing our well-planned and systematic efforts to eliminate corruption, strengthen good governance and undertake judicial reform.\n",
    "We are pursuing our well-planned and systematic efforts to eliminate corruption, strengthen good governance, undertake judicial reform, promote women’s empowerment, ensure effective service delivery for our citizens. We are cooperating closely with United Nations Office on Drugs and Crime and other international partners.\n",
    "At the 2016 NATO Warsaw Summit in July, NATO members pledged to provide $1 billion in support for the Afghan National Defence and Security Forces. The Resolute Support Mission was also extended beyond 2016. In less than two weeks time, Afghanistan and our international partners will come together to review the full scope of the joint partnership.\n",
    "Despite these achievements, the ongoing undeclared war against Afghanistan and the need for security remain a serious challenge for the National Unity Government. Currently, more than 10 terrorist groups, sent from outside the country, are fighting against us in Afghanistan.\n",
    "Afghanistan asks the United Nations to appoint a special representative for the safety of journalists. \"Terrorist groups, including the Taliban and Da’esh, which continue to enjoy foreign support, have attacked a peaceful and civil demonstration\"\n",
    "This year, the Taliban has tried to take control of more areas in the country, especially in Kunduz and Helmand provinces. Hundreds of extremist militants of the Taliban and Da’esh, many of whom were foreign fighters, were killed or captured.\n",
    "Where are the leaders of the Taliban and the Haqqani network located? Where and how are terrorists being trained, equipped and financed to wage a full-scale war? We have repeatedly asked our neighboring country Pakistan to destroy the known terrorist safe havens.\n",
    "A peace agreement is about to be signed between our Government and the Hezb-e-Islami party. Afghanistan has always maintained a positive approach to all regional countries and the Islamic world.\n",
    "We consider Islamic countries to be our best partners and seek to strengthen our cultural, social and economic ties. We welcome the express readiness of the Organization of the Islamic Cooperation and any Islamic country to help promote the peace agenda in Afghanistan.\n",
    "Afghanistan's foreign policy is founded on the creation of a secure economy-based society. Afghanistan is an active member of the South Asian Association for Regional Cooperation and the European Community.\n",
    "Afghanistan and all countries of its region share common threats and common interests. We should come together and cooperate in the fight against our common threats. The establishment of a regional railroad can provide us with an important opportunity for joint economic cooperation.\n",
    "Afghanistan, as an important crossroads for trade, transport and economic activities, can connect South Asia to Central Asia. Afghanistan has already made significant progress through projects such as the Turkmenistan- Afghanistan-Pakistan-India Pipeline.\n",
    "Afghanistan was the first country to become a United Nations Member State after the 51 founding countries. We call on all our neighbouring countries to cooperate with us in the provision of security and stability throughout the region.\n",
    "Afghanistan, like other members of the international community, is serious and resolute in its fight against radicalism and violence. For years, our nation has been on the front line of the fight against terrorism and has made tremendous sacrifices. We have lost many of our great national figures, including the martyrs Ahmad Shah Massoud, Ustad Burhanuddin Rabbani and Ustad Abdul Ali Mazari.\n",
    "We believe that terrorism and radicalism have become global threats to world peace. We have lost many of our great national figures, including the martyrs Ahmad Shah Massoud, Ustad Burhanuddin Rabbani.\n",
    "Afghanistan is on the front line of the fight against terrorism and radicalism. U.N. should introduce a new legal framework to combat the problem.\n",
    "A glimpse into global conditions shows that injustice, threat, violence and conflict are still endangering millions of human lives. We have seen devastation and terror in Syria. We announce our full support for a comprehensive solution to the Syrian conflict that reflects the will of all Syrians. We hope to see a comprehensive and peaceful solution in Yemen. We support new international efforts to resolve the issue of Palestine.\n",
    "Afghanistan supports the historic agreement between the 5+1 countries and the Islamic Republic of Iran on the Iranian nuclear programme. We believe that the Democratic Republic of North Korea’s tests of nuclear weapons are dangerous for the region.\n",
    "Afghanistan has regained its historical place among the responsible members of the family of nations represented in the General Assembly. It is in that context that we have presented our candidacy to the Human Rights Council for 2018- 2020.\n",
    "I thank the troops of NATO and the International Security Assistance Force for the sacrifices they have made in the fight against terrorism in Afghanistan. We look to the Assembly’s continued support over the coming years and remain confident in realizing the goals that we have jointly set to achieve.\"\"\"\n",
    "documents = summary.split(\"\\n\")"
   ]
  },
  {
   "cell_type": "code",
   "execution_count": 149,
   "metadata": {},
   "outputs": [],
   "source": [
    "\n",
    "sub_document = documents[7]\n",
    "sub_documents = \"The US is prepared to contribute toward peace in the region. This will strengthen security.\"\n",
    "#keywords = kw_model.extract_keywords(documents)"
   ]
  },
  {
   "cell_type": "code",
   "execution_count": 158,
   "metadata": {},
   "outputs": [
    {
     "name": "stdout",
     "output_type": "stream",
     "text": [
      "The United States is prepared to contribute to renewed efforts toward peace in the Middle East. The \n",
      "The US is prepared to contribute toward peace in the region. This will strengthen security\n"
     ]
    }
   ],
   "source": [
    "print(sub_document[0:100])\n",
    "print(sub_documents)"
   ]
  },
  {
   "cell_type": "code",
   "execution_count": 159,
   "metadata": {},
   "outputs": [],
   "source": [
    "keywords = kw_model.extract_keywords(sub_document[0:100])"
   ]
  },
  {
   "cell_type": "code",
   "execution_count": 160,
   "metadata": {},
   "outputs": [
    {
     "data": {
      "text/plain": [
       "[['United States', '']]"
      ]
     },
     "execution_count": 160,
     "metadata": {},
     "output_type": "execute_result"
    }
   ],
   "source": [
    "keywords"
   ]
  },
  {
   "cell_type": "markdown",
   "metadata": {},
   "source": [
    "#Testing"
   ]
  },
  {
   "cell_type": "code",
   "execution_count": 116,
   "metadata": {},
   "outputs": [],
   "source": [
    "from keybert import KeyLLM\n",
    "from sentence_transformers import SentenceTransformer\n",
    "\n",
    "# Extract embeddings\n",
    "model = SentenceTransformer('BAAI/bge-small-en-v1.5')\n",
    "embeddings = model.encode(documents, convert_to_tensor=True)"
   ]
  },
  {
   "cell_type": "code",
   "execution_count": 117,
   "metadata": {},
   "outputs": [],
   "source": [
    "# Load it in KeyLLM\n",
    "kw_model = KeyLLM(llm)\n",
    "\n",
    "# Extract keywords\n",
    "keywords = kw_model.extract_keywords(documents, embeddings=embeddings, threshold=.8)"
   ]
  },
  {
   "cell_type": "code",
   "execution_count": 118,
   "metadata": {},
   "outputs": [
    {
     "data": {
      "text/plain": [
       "[['United Nations', ''],\n",
       " ['Argentine', ''],\n",
       " ['Argentine', ''],\n",
       " ['United Nations', ''],\n",
       " ['history', 'nations', ''],\n",
       " ['democratization'],\n",
       " ['Charter', 'United'],\n",
       " ['United Nations', ''],\n",
       " ['185', ''],\n",
       " ['maladjustment', ''],\n",
       " ['maladjustment', ''],\n",
       " ['Organization', 'international'],\n",
       " ['Charter', 'rev'],\n",
       " ['United Nations', ''],\n",
       " ['skepticism', ''],\n",
       " ['United Nations', ''],\n",
       " ['problems', ''],\n",
       " ['decolonization', ''],\n",
       " ['194', ''],\n",
       " ['Malvinas Islands'],\n",
       " ['Malvinas Islands'],\n",
       " ['197', ''],\n",
       " ['disarmament', ''],\n",
       " ['government', 'strategic'],\n",
       " ['Argentina', ''],\n",
       " ['Conference', 'draft'],\n",
       " ['Assembly', 'support', ''],\n",
       " ['Conference', 'Committee'],\n",
       " ['203', ''],\n",
       " ['Malvinas Islands'],\n",
       " ['Organization', 'international'],\n",
       " ['news correspondents', ''],\n",
       " ['Organization', 'international'],\n",
       " ['208', ''],\n",
       " ['208', ''],\n",
       " ['hijacking', ''],\n",
       " ['United Nations', ''],\n",
       " ['United Nations', ''],\n",
       " ['213.', ''],\n",
       " ['United Nations', ''],\n",
       " ['science', 'technology', ''],\n",
       " ['Argentine Republic'],\n",
       " ['United Nations', ''],\n",
       " ['seabed', ''],\n",
       " ['seabed', ''],\n",
       " ['Argentina', ''],\n",
       " ['United Nations', ''],\n",
       " ['222', ''],\n",
       " ['UN', 'treaty'],\n",
       " ['Argentine', ''],\n",
       " ['war', 'justice', ''],\n",
       " ['nation', 'nations'],\n",
       " ['Argentine Republic'],\n",
       " ['I apologize']]"
      ]
     },
     "execution_count": 118,
     "metadata": {},
     "output_type": "execute_result"
    }
   ],
   "source": [
    "keywords"
   ]
  },
  {
   "cell_type": "code",
   "execution_count": null,
   "metadata": {},
   "outputs": [],
   "source": [
    "from keybert import KeyLLM, KeyBERT\n",
    "\n",
    "# Load it in KeyLLM\n",
    "kw_model = KeyBERT(llm=llm, model='BAAI/bge-small-en-v1.5')\n",
    "\n",
    "# Extract keywords\n",
    "keywords = kw_model.extract_keywords(documents,candidates=['inflation'] ,threshold=.5)"
   ]
  },
  {
   "cell_type": "code",
   "execution_count": null,
   "metadata": {},
   "outputs": [],
   "source": [
    "keywords"
   ]
  }
 ],
 "metadata": {
  "kernelspec": {
   "display_name": "699",
   "language": "python",
   "name": "python3"
  },
  "language_info": {
   "codemirror_mode": {
    "name": "ipython",
    "version": 3
   },
   "file_extension": ".py",
   "mimetype": "text/x-python",
   "name": "python",
   "nbconvert_exporter": "python",
   "pygments_lexer": "ipython3",
   "version": "3.11.5"
  }
 },
 "nbformat": 4,
 "nbformat_minor": 2
}
