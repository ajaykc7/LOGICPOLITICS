{
 "cells": [
  {
   "cell_type": "code",
   "execution_count": 4,
   "metadata": {},
   "outputs": [
    {
     "ename": "ModuleNotFoundError",
     "evalue": "No module named 'bertopic'",
     "output_type": "error",
     "traceback": [
      "\u001b[1;31m---------------------------------------------------------------------------\u001b[0m",
      "\u001b[1;31mModuleNotFoundError\u001b[0m                       Traceback (most recent call last)",
      "\u001b[1;32mf:\\Github repo\\LOGICPOLITICS\\BertTopicKeyExtraction.ipynb Cell 1\u001b[0m line \u001b[0;36m1\n\u001b[1;32m----> <a href='vscode-notebook-cell:/f%3A/Github%20repo/LOGICPOLITICS/BertTopicKeyExtraction.ipynb#W0sZmlsZQ%3D%3D?line=0'>1</a>\u001b[0m \u001b[39mfrom\u001b[39;00m \u001b[39mbertopic\u001b[39;00m \u001b[39mimport\u001b[39;00m BERTopic\n",
      "\u001b[1;31mModuleNotFoundError\u001b[0m: No module named 'bertopic'"
     ]
    }
   ],
   "source": [
    "from bertopic import BERTopic\n"
   ]
  },
  {
   "cell_type": "code",
   "execution_count": 2,
   "metadata": {},
   "outputs": [
    {
     "ename": "NameError",
     "evalue": "name 'BERTopic' is not defined",
     "output_type": "error",
     "traceback": [
      "\u001b[1;31m---------------------------------------------------------------------------\u001b[0m",
      "\u001b[1;31mNameError\u001b[0m                                 Traceback (most recent call last)",
      "\u001b[1;32mf:\\Github repo\\LOGICPOLITICS\\BertTopicKeyExtraction.ipynb Cell 2\u001b[0m line \u001b[0;36m6\n\u001b[0;32m      <a href='vscode-notebook-cell:/f%3A/Github%20repo/LOGICPOLITICS/BertTopicKeyExtraction.ipynb#W2sZmlsZQ%3D%3D?line=3'>4</a>\u001b[0m         summary \u001b[39m=\u001b[39m file\u001b[39m.\u001b[39mread()\n\u001b[0;32m      <a href='vscode-notebook-cell:/f%3A/Github%20repo/LOGICPOLITICS/BertTopicKeyExtraction.ipynb#W2sZmlsZQ%3D%3D?line=4'>5</a>\u001b[0m         documents \u001b[39m=\u001b[39m summary\u001b[39m.\u001b[39msplit(\u001b[39m'\u001b[39m\u001b[39m\\n\u001b[39;00m\u001b[39m'\u001b[39m)\n\u001b[1;32m----> <a href='vscode-notebook-cell:/f%3A/Github%20repo/LOGICPOLITICS/BertTopicKeyExtraction.ipynb#W2sZmlsZQ%3D%3D?line=5'>6</a>\u001b[0m kw_model \u001b[39m=\u001b[39m BERTopic(embedding_model\u001b[39m=\u001b[39m\u001b[39m'\u001b[39m\u001b[39mxlm-r-bert-base-nli-stsb-mean-tokens\u001b[39m\u001b[39m'\u001b[39m)\u001b[39m.\u001b[39mfit(documents)\n",
      "\u001b[1;31mNameError\u001b[0m: name 'BERTopic' is not defined"
     ]
    }
   ],
   "source": [
    "SUMMARIZED_SPEECH_DIRECTORY = './Data/Summarized Speech/'\n",
    "file_path = SUMMARIZED_SPEECH_DIRECTORY+'USA_25_1970.txt'\n",
    "with open(file_path,'r') as file:\n",
    "        summary = file.read()\n",
    "        documents = summary.split('\\n')\n",
    "kw_model = BERTopic(embedding_model='xlm-r-bert-base-nli-stsb-mean-tokens').fit(documents)"
   ]
  },
  {
   "cell_type": "code",
   "execution_count": null,
   "metadata": {},
   "outputs": [],
   "source": [
    "import os\n",
    "from collections import Counter\n",
    "import pandas as pd\n",
    "final_df = pd.DataFrame(columns=['FileName','Keyword','Count'])\n",
    "\n",
    "for f in os.listdir(SUMMARIZED_SPEECH_DIRECTORY):\n",
    "    file_path = SUMMARIZED_SPEECH_DIRECTORY+f\n",
    "    with open(file_path,'r') as file:\n",
    "        summary = file.read()\n",
    "        documents = summary.split('\\n')\n",
    "        keywords = kw_model.extract_keywords(documents)\n",
    "\n",
    "        keywords_flatten = [item for keyword in keywords for item in keyword]\n",
    "\n",
    "        \n",
    "        keyword_counter = Counter(keywords_flatten)\n",
    "\n",
    "        df = pd.DataFrame.from_dict(keyword_counter,orient='index').reset_index()\n",
    "        df.columns = ['Keyword','Count']\n",
    "        df['FileName'] = f\n",
    "        df = df[['FileName','Keyword','Count']] \n",
    "\n",
    "        final_df = pd.concat([final_df,df])\n",
    "\n",
    "\n",
    "final_df.to_csv('./Data/Keyword.csv',sep='\\t',index=False)   "
   ]
  }
 ],
 "metadata": {
  "kernelspec": {
   "display_name": "699",
   "language": "python",
   "name": "python3"
  },
  "language_info": {
   "codemirror_mode": {
    "name": "ipython",
    "version": 3
   },
   "file_extension": ".py",
   "mimetype": "text/x-python",
   "name": "python",
   "nbconvert_exporter": "python",
   "pygments_lexer": "ipython3",
   "version": "3.11.5"
  }
 },
 "nbformat": 4,
 "nbformat_minor": 2
}
