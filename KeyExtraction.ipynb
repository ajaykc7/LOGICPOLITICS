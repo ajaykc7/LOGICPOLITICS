{
 "cells": [
  {
   "cell_type": "code",
   "execution_count": 11,
   "metadata": {},
   "outputs": [],
   "source": [
    "SUMMARIZED_SPEECH_DIRECTORY = './Data/Summarized Speech/'"
   ]
  },
  {
   "cell_type": "code",
   "execution_count": 1,
   "metadata": {},
   "outputs": [
    {
     "name": "stderr",
     "output_type": "stream",
     "text": [
      "e:\\Programs\\Anaconda\\envs\\699\\Lib\\site-packages\\tqdm\\auto.py:21: TqdmWarning: IProgress not found. Please update jupyter and ipywidgets. See https://ipywidgets.readthedocs.io/en/stable/user_install.html\n",
      "  from .autonotebook import tqdm as notebook_tqdm\n",
      "Fetching 1 files: 100%|██████████| 1/1 [00:00<00:00, 64.29it/s]\n",
      "Fetching 1 files: 100%|██████████| 1/1 [00:00<?, ?it/s]\n"
     ]
    }
   ],
   "source": [
    "from ctransformers import AutoModelForCausalLM\n",
    "\n",
    "# Set gpu_layers to the number of layers to offload to GPU. Set to 0 if no GPU acceleration is available on your system.\n",
    "model = AutoModelForCausalLM.from_pretrained(\n",
    "    \"TheBloke/Mistral-7B-Instruct-v0.1-GGUF\",\n",
    "    model_file=\"mistral-7b-instruct-v0.1.Q4_K_M.gguf\",\n",
    "    model_type=\"mistral\",\n",
    "    gpu_layers=50,\n",
    "    hf=True\n",
    ")"
   ]
  },
  {
   "cell_type": "code",
   "execution_count": 2,
   "metadata": {},
   "outputs": [],
   "source": [
    "from transformers import AutoTokenizer, pipeline\n",
    "\n",
    "# Tokenizer\n",
    "tokenizer = AutoTokenizer.from_pretrained(\"mistralai/Mistral-7B-Instruct-v0.1\")\n",
    "\n",
    "# Pipeline\n",
    "generator = pipeline(\n",
    "    model=model, tokenizer=tokenizer,\n",
    "    task='text-generation',\n",
    "    max_new_tokens=4,\n",
    "    repetition_penalty=1.1\n",
    ")"
   ]
  },
  {
   "cell_type": "code",
   "execution_count": 3,
   "metadata": {},
   "outputs": [],
   "source": [
    "example_prompt = \"\"\"\n",
    "<s>[INST]\n",
    "I have the following document:\n",
    "- The website mentions that it only takes a couple of days to deliver but I still have not received mine.\n",
    "\n",
    "Please give me the keywords that are present in this document and separate them with commas.\n",
    "Make sure you to only return the keywords and say nothing else. For example, don't say:\n",
    "\"Here are the keywords present in the document\"\n",
    "[/INST] meat, beef, eat, eating, emissions, steak, food, health, processed, chicken</s>\"\"\""
   ]
  },
  {
   "cell_type": "code",
   "execution_count": 4,
   "metadata": {},
   "outputs": [],
   "source": [
    "keyword_prompt = \"\"\"\n",
    "[INST]\n",
    "\n",
    "I have the following document:\n",
    "- [DOCUMENT]\n",
    "\n",
    "Please give me the keywords that are present in this document and separate them with commas.\n",
    "Make sure you to only return the keywords and say nothing else. For example, don't say:\n",
    "\"Here are the keywords present in the document\"\n",
    "[/INST]\n",
    "\"\"\""
   ]
  },
  {
   "cell_type": "code",
   "execution_count": 5,
   "metadata": {},
   "outputs": [
    {
     "name": "stdout",
     "output_type": "stream",
     "text": [
      "\n",
      "<s>[INST]\n",
      "I have the following document:\n",
      "- The website mentions that it only takes a couple of days to deliver but I still have not received mine.\n",
      "\n",
      "Please give me the keywords that are present in this document and separate them with commas.\n",
      "Make sure you to only return the keywords and say nothing else. For example, don't say:\n",
      "\"Here are the keywords present in the document\"\n",
      "[/INST] meat, beef, eat, eating, emissions, steak, food, health, processed, chicken</s>\n",
      "[INST]\n",
      "\n",
      "I have the following document:\n",
      "- [DOCUMENT]\n",
      "\n",
      "Please give me the keywords that are present in this document and separate them with commas.\n",
      "Make sure you to only return the keywords and say nothing else. For example, don't say:\n",
      "\"Here are the keywords present in the document\"\n",
      "[/INST]\n",
      "\n"
     ]
    }
   ],
   "source": [
    "prompt = example_prompt + keyword_prompt\n",
    "print(prompt)"
   ]
  },
  {
   "cell_type": "code",
   "execution_count": 6,
   "metadata": {},
   "outputs": [],
   "source": [
    "from keybert.llm import TextGeneration\n",
    "from keybert import KeyLLM\n",
    "\n",
    "# Load it in KeyLLM\n",
    "llm = TextGeneration(generator, prompt=prompt)\n",
    "kw_model = KeyLLM(llm)"
   ]
  },
  {
   "cell_type": "code",
   "execution_count": 19,
   "metadata": {},
   "outputs": [],
   "source": [
    "import os\n",
    "from collections import Counter\n",
    "\n",
    "for f in os.listdir(SUMMARIZED_SPEECH_DIRECTORY):\n",
    "    file_path = SUMMARIZED_SPEECH_DIRECTORY+f\n",
    "    "
   ]
  },
  {
   "cell_type": "code",
   "execution_count": 18,
   "metadata": {},
   "outputs": [
    {
     "ename": "NameError",
     "evalue": "name 'Counter' is not defined",
     "output_type": "error",
     "traceback": [
      "\u001b[1;31m---------------------------------------------------------------------------\u001b[0m",
      "\u001b[1;31mNameError\u001b[0m                                 Traceback (most recent call last)",
      "\u001b[1;32mf:\\Github repo\\LOGICPOLITICS\\KeyExtraction.ipynb Cell 9\u001b[0m line \u001b[0;36m1\n\u001b[0;32m      <a href='vscode-notebook-cell:/f%3A/Github%20repo/LOGICPOLITICS/KeyExtraction.ipynb#X14sZmlsZQ%3D%3D?line=4'>5</a>\u001b[0m keywords \u001b[39m=\u001b[39m kw_model\u001b[39m.\u001b[39mextract_keywords(documents)\n\u001b[0;32m      <a href='vscode-notebook-cell:/f%3A/Github%20repo/LOGICPOLITICS/KeyExtraction.ipynb#X14sZmlsZQ%3D%3D?line=6'>7</a>\u001b[0m keywords_flatten \u001b[39m=\u001b[39m [item \u001b[39mfor\u001b[39;00m keyword \u001b[39min\u001b[39;00m keywords \u001b[39mfor\u001b[39;00m item \u001b[39min\u001b[39;00m keyword]\n\u001b[1;32m---> <a href='vscode-notebook-cell:/f%3A/Github%20repo/LOGICPOLITICS/KeyExtraction.ipynb#X14sZmlsZQ%3D%3D?line=9'>10</a>\u001b[0m keyword_counter \u001b[39m=\u001b[39m Counter(keywords_flatten)\n",
      "\u001b[1;31mNameError\u001b[0m: name 'Counter' is not defined"
     ]
    }
   ],
   "source": [
    "file_path = SUMMARIZED_SPEECH_DIRECTORY+\"USA_71_2016\"\n",
    "with open(file_path,'r') as file:\n",
    "        summary = file.read()\n",
    "        documents = summary.split('\\n')\n",
    "        keywords = kw_model.extract_keywords(documents)\n",
    "\n",
    "        keywords_flatten = [item for keyword in keywords for item in keyword]\n",
    "\n",
    "        \n",
    "        keyword_counter = Counter(keywords_flatten)"
   ]
  },
  {
   "cell_type": "code",
   "execution_count": 20,
   "metadata": {},
   "outputs": [],
   "source": [
    "keyword_counter = Counter(keywords_flatten)"
   ]
  },
  {
   "cell_type": "code",
   "execution_count": 22,
   "metadata": {},
   "outputs": [
    {
     "ename": "ModuleNotFoundError",
     "evalue": "No module named 'panda'",
     "output_type": "error",
     "traceback": [
      "\u001b[1;31m---------------------------------------------------------------------------\u001b[0m",
      "\u001b[1;31mModuleNotFoundError\u001b[0m                       Traceback (most recent call last)",
      "\u001b[1;32mf:\\Github repo\\LOGICPOLITICS\\KeyExtraction.ipynb Cell 11\u001b[0m line \u001b[0;36m1\n\u001b[1;32m----> <a href='vscode-notebook-cell:/f%3A/Github%20repo/LOGICPOLITICS/KeyExtraction.ipynb#X32sZmlsZQ%3D%3D?line=0'>1</a>\u001b[0m \u001b[39mimport\u001b[39;00m \u001b[39mpanda\u001b[39;00m \u001b[39mas\u001b[39;00m \u001b[39mpd\u001b[39;00m\n\u001b[0;32m      <a href='vscode-notebook-cell:/f%3A/Github%20repo/LOGICPOLITICS/KeyExtraction.ipynb#X32sZmlsZQ%3D%3D?line=2'>3</a>\u001b[0m df \u001b[39m=\u001b[39m pd\u001b[39m.\u001b[39mDataFrame(columns\u001b[39m=\u001b[39m[\u001b[39m'\u001b[39m\u001b[39mFileName\u001b[39m\u001b[39m'\u001b[39m,\u001b[39m'\u001b[39m\u001b[39mKeyword\u001b[39m\u001b[39m'\u001b[39m,\u001b[39m'\u001b[39m\u001b[39mCount\u001b[39m\u001b[39m'\u001b[39m])\n\u001b[0;32m      <a href='vscode-notebook-cell:/f%3A/Github%20repo/LOGICPOLITICS/KeyExtraction.ipynb#X32sZmlsZQ%3D%3D?line=3'>4</a>\u001b[0m dict_df \u001b[39m=\u001b[39m pd\u001b[39m.\u001b[39mDataFrame\u001b[39m.\u001b[39mfrom_dict(keyword_counter)\n",
      "\u001b[1;31mModuleNotFoundError\u001b[0m: No module named 'panda'"
     ]
    }
   ],
   "source": [
    "import panda as pd\n",
    "\n",
    "df = pd.DataFrame(columns=['FileName','Keyword','Count'])\n",
    "dict_df = pd.DataFrame.from_dict(keyword_counter)"
   ]
  },
  {
   "cell_type": "markdown",
   "metadata": {},
   "source": [
    "#Testing"
   ]
  },
  {
   "cell_type": "code",
   "execution_count": null,
   "metadata": {},
   "outputs": [],
   "source": [
    "from keybert import KeyLLM\n",
    "from sentence_transformers import SentenceTransformer\n",
    "\n",
    "# Extract embeddings\n",
    "model = SentenceTransformer('BAAI/bge-small-en-v1.5')\n",
    "embeddings = model.encode(documents, convert_to_tensor=True)"
   ]
  },
  {
   "cell_type": "code",
   "execution_count": 26,
   "metadata": {},
   "outputs": [],
   "source": [
    "# Load it in KeyLLM\n",
    "kw_model = KeyLLM(llm)\n",
    "\n",
    "# Extract keywords\n",
    "keywords = kw_model.extract_keywords(documents, embeddings=embeddings, threshold=.8)"
   ]
  },
  {
   "cell_type": "code",
   "execution_count": null,
   "metadata": {},
   "outputs": [],
   "source": [
    "keywords"
   ]
  },
  {
   "cell_type": "code",
   "execution_count": null,
   "metadata": {},
   "outputs": [],
   "source": [
    "from keybert import KeyLLM, KeyBERT\n",
    "\n",
    "# Load it in KeyLLM\n",
    "kw_model = KeyBERT(llm=llm, model='BAAI/bge-small-en-v1.5')\n",
    "\n",
    "# Extract keywords\n",
    "keywords = kw_model.extract_keywords(documents,candidates=['inflation'] ,threshold=.5)"
   ]
  },
  {
   "cell_type": "code",
   "execution_count": null,
   "metadata": {},
   "outputs": [],
   "source": [
    "keywords"
   ]
  }
 ],
 "metadata": {
  "kernelspec": {
   "display_name": "699",
   "language": "python",
   "name": "python3"
  },
  "language_info": {
   "codemirror_mode": {
    "name": "ipython",
    "version": 3
   },
   "file_extension": ".py",
   "mimetype": "text/x-python",
   "name": "python",
   "nbconvert_exporter": "python",
   "pygments_lexer": "ipython3",
   "version": "3.11.5"
  }
 },
 "nbformat": 4,
 "nbformat_minor": 2
}
