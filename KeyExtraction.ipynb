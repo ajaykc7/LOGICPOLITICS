{
 "cells": [
  {
   "cell_type": "code",
   "execution_count": 1,
   "metadata": {},
   "outputs": [
    {
     "name": "stderr",
     "output_type": "stream",
     "text": [
      "e:\\Programs\\Anaconda\\envs\\699\\Lib\\site-packages\\tqdm\\auto.py:21: TqdmWarning: IProgress not found. Please update jupyter and ipywidgets. See https://ipywidgets.readthedocs.io/en/stable/user_install.html\n",
      "  from .autonotebook import tqdm as notebook_tqdm\n",
      "Downloading (…)f9f258a8/config.json: 100%|██████████| 31.0/31.0 [00:00<00:00, 31.1kB/s]\n",
      "e:\\Programs\\Anaconda\\envs\\699\\Lib\\site-packages\\huggingface_hub\\file_download.py:137: UserWarning: `huggingface_hub` cache-system uses symlinks by default to efficiently store duplicated files but your machine does not support them in C:\\Users\\ajay_\\.cache\\huggingface\\hub. Caching files will still work but in a degraded version that might require more space on your disk. This warning can be disabled by setting the `HF_HUB_DISABLE_SYMLINKS_WARNING` environment variable. For more details, see https://huggingface.co/docs/huggingface_hub/how-to-cache#limitations.\n",
      "To support symlinks on Windows, you either need to activate Developer Mode or to run Python as an administrator. In order to see activate developer mode, see this article: https://docs.microsoft.com/en-us/windows/apps/get-started/enable-your-device-for-development\n",
      "  warnings.warn(message)\n",
      "Fetching 1 files: 100%|██████████| 1/1 [00:00<00:00,  1.33it/s]\n",
      "Downloading (…)uct-v0.1.Q4_K_M.gguf: 100%|██████████| 4.37G/4.37G [12:01<00:00, 6.06MB/s]\n",
      "Fetching 1 files: 100%|██████████| 1/1 [12:02<00:00, 722.45s/it]\n"
     ]
    }
   ],
   "source": [
    "from ctransformers import AutoModelForCausalLM\n",
    "\n",
    "# Set gpu_layers to the number of layers to offload to GPU. Set to 0 if no GPU acceleration is available on your system.\n",
    "model = AutoModelForCausalLM.from_pretrained(\n",
    "    \"TheBloke/Mistral-7B-Instruct-v0.1-GGUF\",\n",
    "    model_file=\"mistral-7b-instruct-v0.1.Q4_K_M.gguf\",\n",
    "    model_type=\"mistral\",\n",
    "    gpu_layers=50,\n",
    "    hf=True\n",
    ")"
   ]
  },
  {
   "cell_type": "code",
   "execution_count": 21,
   "metadata": {},
   "outputs": [],
   "source": [
    "from transformers import AutoTokenizer, pipeline\n",
    "\n",
    "# Tokenizer\n",
    "tokenizer = AutoTokenizer.from_pretrained(\"mistralai/Mistral-7B-Instruct-v0.1\")\n",
    "\n",
    "# Pipeline\n",
    "generator = pipeline(\n",
    "    model=model, tokenizer=tokenizer,\n",
    "    task='text-generation',\n",
    "    max_new_tokens=4,\n",
    "    repetition_penalty=1.1\n",
    ")"
   ]
  },
  {
   "cell_type": "code",
   "execution_count": 3,
   "metadata": {},
   "outputs": [
    {
     "name": "stdout",
     "output_type": "stream",
     "text": [
      "What is 1+1?\n",
      "A: 2\n"
     ]
    }
   ],
   "source": [
    "response = generator(\"What is 1+1?\")\n"
   ]
  },
  {
   "cell_type": "code",
   "execution_count": 5,
   "metadata": {},
   "outputs": [],
   "source": [
    "example_prompt = \"\"\"\n",
    "<s>[INST]\n",
    "I have the following document:\n",
    "- The website mentions that it only takes a couple of days to deliver but I still have not received mine.\n",
    "\n",
    "Please give me the keywords that are present in this document and separate them with commas.\n",
    "Make sure you to only return the keywords and say nothing else. For example, don't say:\n",
    "\"Here are the keywords present in the document\"\n",
    "[/INST] meat, beef, eat, eating, emissions, steak, food, health, processed, chicken</s>\"\"\""
   ]
  },
  {
   "cell_type": "code",
   "execution_count": 6,
   "metadata": {},
   "outputs": [],
   "source": [
    "keyword_prompt = \"\"\"\n",
    "[INST]\n",
    "\n",
    "I have the following document:\n",
    "- [DOCUMENT]\n",
    "\n",
    "Please give me the keywords that are present in this document and separate them with commas.\n",
    "Make sure you to only return the keywords and say nothing else. For example, don't say:\n",
    "\"Here are the keywords present in the document\"\n",
    "[/INST]\n",
    "\"\"\""
   ]
  },
  {
   "cell_type": "code",
   "execution_count": 7,
   "metadata": {},
   "outputs": [
    {
     "name": "stdout",
     "output_type": "stream",
     "text": [
      "\n",
      "<s>[INST]\n",
      "I have the following document:\n",
      "- The website mentions that it only takes a couple of days to deliver but I still have not received mine.\n",
      "\n",
      "Please give me the keywords that are present in this document and separate them with commas.\n",
      "Make sure you to only return the keywords and say nothing else. For example, don't say:\n",
      "\"Here are the keywords present in the document\"\n",
      "[/INST] meat, beef, eat, eating, emissions, steak, food, health, processed, chicken</s>\n",
      "[INST]\n",
      "\n",
      "I have the following document:\n",
      "- [DOCUMENT]\n",
      "\n",
      "Please give me the keywords that are present in this document and separate them with commas.\n",
      "Make sure you to only return the keywords and say nothing else. For example, don't say:\n",
      "\"Here are the keywords present in the document\"\n",
      "[/INST]\n",
      "\n"
     ]
    }
   ],
   "source": [
    "prompt = example_prompt + keyword_prompt\n",
    "print(prompt)"
   ]
  },
  {
   "cell_type": "code",
   "execution_count": 8,
   "metadata": {},
   "outputs": [],
   "source": [
    "from keybert.llm import TextGeneration\n",
    "from keybert import KeyLLM\n",
    "\n",
    "# Load it in KeyLLM\n",
    "llm = TextGeneration(generator, prompt=prompt)\n",
    "kw_model = KeyLLM(llm)"
   ]
  },
  {
   "cell_type": "code",
   "execution_count": null,
   "metadata": {},
   "outputs": [],
   "source": [
    "documents = [\n",
    "\"\"\"I thank Secretary-General Ban Ki-moon for his tireless efforts and wise leadership in support of fundamental freedoms, the rule of law and justice for all over a decade.\"\"\",\n",
    "\"I received my package!\",\n",
    "\"Whereas the most powerful LLMs have generally been accessible only through limited APIs (if at all), Meta released LLaMA's model weights to the research community under a noncommercial license.\"\n",
    "]\n",
    "\n",
    "keywords = kw_model.extract_keywords(documents); keywords"
   ]
  },
  {
   "cell_type": "code",
   "execution_count": 3,
   "metadata": {},
   "outputs": [],
   "source": [
    "summary = \"\"\"I thank Secretary-General Ban Ki-moon for his tireless efforts and wise leadership in support of fundamental freedoms, the rule of law and justice for all over a decade. It is my distinct pleasure to attend the seventy-first session of the General Assembly. I sincerely congratulate Ambassador Peter Thomson of the Republic of Fiji on having been elected to the presidency.\n",
    "We believe that the United Nations remains the single most important international body for promoting global peace, security and prosperity. The United Nations vital role in helping Afghanistan to transition into a democratic and pluralistic society is a clear example of its profound impact.\n",
    "The Afghan nation has inherited a legacy of conflict, oppression, discrimination and inequality. We believe that democracy is the best solution to these problems, as it provides the only foundation to ensure justice and equality.\n",
    "Our Government has registered considerable achievements in different areas over the past two years. We are pursuing our well-planned and systematic efforts to eliminate corruption, strengthen good governance and undertake judicial reform.\n",
    "We are pursuing our well-planned and systematic efforts to eliminate corruption, strengthen good governance, undertake judicial reform, promote women’s empowerment, ensure effective service delivery for our citizens. We are cooperating closely with United Nations Office on Drugs and Crime and other international partners.\n",
    "At the 2016 NATO Warsaw Summit in July, NATO members pledged to provide $1 billion in support for the Afghan National Defence and Security Forces. The Resolute Support Mission was also extended beyond 2016. In less than two weeks time, Afghanistan and our international partners will come together to review the full scope of the joint partnership.\n",
    "Despite these achievements, the ongoing undeclared war against Afghanistan and the need for security remain a serious challenge for the National Unity Government. Currently, more than 10 terrorist groups, sent from outside the country, are fighting against us in Afghanistan.\n",
    "Afghanistan asks the United Nations to appoint a special representative for the safety of journalists. \"Terrorist groups, including the Taliban and Da’esh, which continue to enjoy foreign support, have attacked a peaceful and civil demonstration\"\n",
    "This year, the Taliban has tried to take control of more areas in the country, especially in Kunduz and Helmand provinces. Hundreds of extremist militants of the Taliban and Da’esh, many of whom were foreign fighters, were killed or captured.\n",
    "Where are the leaders of the Taliban and the Haqqani network located? Where and how are terrorists being trained, equipped and financed to wage a full-scale war? We have repeatedly asked our neighboring country Pakistan to destroy the known terrorist safe havens.\n",
    "A peace agreement is about to be signed between our Government and the Hezb-e-Islami party. Afghanistan has always maintained a positive approach to all regional countries and the Islamic world.\n",
    "We consider Islamic countries to be our best partners and seek to strengthen our cultural, social and economic ties. We welcome the express readiness of the Organization of the Islamic Cooperation and any Islamic country to help promote the peace agenda in Afghanistan.\n",
    "Afghanistan's foreign policy is founded on the creation of a secure economy-based society. Afghanistan is an active member of the South Asian Association for Regional Cooperation and the European Community.\n",
    "Afghanistan and all countries of its region share common threats and common interests. We should come together and cooperate in the fight against our common threats. The establishment of a regional railroad can provide us with an important opportunity for joint economic cooperation.\n",
    "Afghanistan, as an important crossroads for trade, transport and economic activities, can connect South Asia to Central Asia. Afghanistan has already made significant progress through projects such as the Turkmenistan- Afghanistan-Pakistan-India Pipeline.\n",
    "Afghanistan was the first country to become a United Nations Member State after the 51 founding countries. We call on all our neighbouring countries to cooperate with us in the provision of security and stability throughout the region.\n",
    "Afghanistan, like other members of the international community, is serious and resolute in its fight against radicalism and violence. For years, our nation has been on the front line of the fight against terrorism and has made tremendous sacrifices. We have lost many of our great national figures, including the martyrs Ahmad Shah Massoud, Ustad Burhanuddin Rabbani and Ustad Abdul Ali Mazari.\n",
    "We believe that terrorism and radicalism have become global threats to world peace. We have lost many of our great national figures, including the martyrs Ahmad Shah Massoud, Ustad Burhanuddin Rabbani.\n",
    "Afghanistan is on the front line of the fight against terrorism and radicalism. U.N. should introduce a new legal framework to combat the problem.\n",
    "A glimpse into global conditions shows that injustice, threat, violence and conflict are still endangering millions of human lives. We have seen devastation and terror in Syria. We announce our full support for a comprehensive solution to the Syrian conflict that reflects the will of all Syrians. We hope to see a comprehensive and peaceful solution in Yemen. We support new international efforts to resolve the issue of Palestine.\n",
    "Afghanistan supports the historic agreement between the 5+1 countries and the Islamic Republic of Iran on the Iranian nuclear programme. We believe that the Democratic Republic of North Korea’s tests of nuclear weapons are dangerous for the region.\n",
    "Afghanistan has regained its historical place among the responsible members of the family of nations represented in the General Assembly. It is in that context that we have presented our candidacy to the Human Rights Council for 2018- 2020.\n",
    "I thank the troops of NATO and the International Security Assistance Force for the sacrifices they have made in the fight against terrorism in Afghanistan. We look to the Assembly’s continued support over the coming years and remain confident in realizing the goals that we have jointly set to achieve.\"\"\""
   ]
  },
  {
   "cell_type": "code",
   "execution_count": 4,
   "metadata": {},
   "outputs": [],
   "source": [
    "documents = summary.split(\"\\n\")"
   ]
  },
  {
   "cell_type": "code",
   "execution_count": 5,
   "metadata": {},
   "outputs": [
    {
     "data": {
      "text/plain": [
       "['I thank Secretary-General Ban Ki-moon for his tireless efforts and wise leadership in support of fundamental freedoms, the rule of law and justice for all over a decade. It is my distinct pleasure to attend the seventy-first session of the General Assembly. I sincerely congratulate Ambassador Peter Thomson of the Republic of Fiji on having been elected to the presidency.',\n",
       " 'We believe that the United Nations remains the single most important international body for promoting global peace, security and prosperity. The United Nations vital role in helping Afghanistan to transition into a democratic and pluralistic society is a clear example of its profound impact.',\n",
       " 'The Afghan nation has inherited a legacy of conflict, oppression, discrimination and inequality. We believe that democracy is the best solution to these problems, as it provides the only foundation to ensure justice and equality.',\n",
       " 'Our Government has registered considerable achievements in different areas over the past two years. We are pursuing our well-planned and systematic efforts to eliminate corruption, strengthen good governance and undertake judicial reform.',\n",
       " 'We are pursuing our well-planned and systematic efforts to eliminate corruption, strengthen good governance, undertake judicial reform, promote women’s empowerment, ensure effective service delivery for our citizens. We are cooperating closely with United Nations Office on Drugs and Crime and other international partners.',\n",
       " 'At the 2016 NATO Warsaw Summit in July, NATO members pledged to provide $1 billion in support for the Afghan National Defence and Security Forces. The Resolute Support Mission was also extended beyond 2016. In less than two weeks time, Afghanistan and our international partners will come together to review the full scope of the joint partnership.',\n",
       " 'Despite these achievements, the ongoing undeclared war against Afghanistan and the need for security remain a serious challenge for the National Unity Government. Currently, more than 10 terrorist groups, sent from outside the country, are fighting against us in Afghanistan.',\n",
       " 'Afghanistan asks the United Nations to appoint a special representative for the safety of journalists. \"Terrorist groups, including the Taliban and Da’esh, which continue to enjoy foreign support, have attacked a peaceful and civil demonstration\"',\n",
       " 'This year, the Taliban has tried to take control of more areas in the country, especially in Kunduz and Helmand provinces. Hundreds of extremist militants of the Taliban and Da’esh, many of whom were foreign fighters, were killed or captured.',\n",
       " 'Where are the leaders of the Taliban and the Haqqani network located? Where and how are terrorists being trained, equipped and financed to wage a full-scale war? We have repeatedly asked our neighboring country Pakistan to destroy the known terrorist safe havens.',\n",
       " 'A peace agreement is about to be signed between our Government and the Hezb-e-Islami party. Afghanistan has always maintained a positive approach to all regional countries and the Islamic world.',\n",
       " 'We consider Islamic countries to be our best partners and seek to strengthen our cultural, social and economic ties. We welcome the express readiness of the Organization of the Islamic Cooperation and any Islamic country to help promote the peace agenda in Afghanistan.',\n",
       " \"Afghanistan's foreign policy is founded on the creation of a secure economy-based society. Afghanistan is an active member of the South Asian Association for Regional Cooperation and the European Community.\",\n",
       " 'Afghanistan and all countries of its region share common threats and common interests. We should come together and cooperate in the fight against our common threats. The establishment of a regional railroad can provide us with an important opportunity for joint economic cooperation.',\n",
       " 'Afghanistan, as an important crossroads for trade, transport and economic activities, can connect South Asia to Central Asia. Afghanistan has already made significant progress through projects such as the Turkmenistan- Afghanistan-Pakistan-India Pipeline.',\n",
       " 'Afghanistan was the first country to become a United Nations Member State after the 51 founding countries. We call on all our neighbouring countries to cooperate with us in the provision of security and stability throughout the region.',\n",
       " 'Afghanistan, like other members of the international community, is serious and resolute in its fight against radicalism and violence. For years, our nation has been on the front line of the fight against terrorism and has made tremendous sacrifices. We have lost many of our great national figures, including the martyrs Ahmad Shah Massoud, Ustad Burhanuddin Rabbani and Ustad Abdul Ali Mazari.',\n",
       " 'We believe that terrorism and radicalism have become global threats to world peace. We have lost many of our great national figures, including the martyrs Ahmad Shah Massoud, Ustad Burhanuddin Rabbani.',\n",
       " 'Afghanistan is on the front line of the fight against terrorism and radicalism. U.N. should introduce a new legal framework to combat the problem.',\n",
       " 'A glimpse into global conditions shows that injustice, threat, violence and conflict are still endangering millions of human lives. We have seen devastation and terror in Syria. We announce our full support for a comprehensive solution to the Syrian conflict that reflects the will of all Syrians. We hope to see a comprehensive and peaceful solution in Yemen. We support new international efforts to resolve the issue of Palestine.',\n",
       " 'Afghanistan supports the historic agreement between the 5+1 countries and the Islamic Republic of Iran on the Iranian nuclear programme. We believe that the Democratic Republic of North Korea’s tests of nuclear weapons are dangerous for the region.',\n",
       " 'Afghanistan has regained its historical place among the responsible members of the family of nations represented in the General Assembly. It is in that context that we have presented our candidacy to the Human Rights Council for 2018- 2020.',\n",
       " 'I thank the troops of NATO and the International Security Assistance Force for the sacrifices they have made in the fight against terrorism in Afghanistan. We look to the Assembly’s continued support over the coming years and remain confident in realizing the goals that we have jointly set to achieve.']"
      ]
     },
     "execution_count": 5,
     "metadata": {},
     "output_type": "execute_result"
    }
   ],
   "source": [
    "documents"
   ]
  },
  {
   "cell_type": "code",
   "execution_count": 6,
   "metadata": {},
   "outputs": [
    {
     "ename": "NameError",
     "evalue": "name 'kw_model' is not defined",
     "output_type": "error",
     "traceback": [
      "\u001b[1;31m---------------------------------------------------------------------------\u001b[0m",
      "\u001b[1;31mNameError\u001b[0m                                 Traceback (most recent call last)",
      "\u001b[1;32mf:\\699-Project\\KeyExtraction.ipynb Cell 12\u001b[0m line \u001b[0;36m1\n\u001b[1;32m----> <a href='vscode-notebook-cell:/f%3A/699-Project/KeyExtraction.ipynb#X14sZmlsZQ%3D%3D?line=0'>1</a>\u001b[0m keywords \u001b[39m=\u001b[39m kw_model\u001b[39m.\u001b[39mextract_keywords(documents)\n",
      "\u001b[1;31mNameError\u001b[0m: name 'kw_model' is not defined"
     ]
    }
   ],
   "source": [
    "keywords = kw_model.extract_keywords(documents)"
   ]
  },
  {
   "cell_type": "code",
   "execution_count": 43,
   "metadata": {},
   "outputs": [],
   "source": [
    "keywords_flatten = [item for keyword in keywords for item in keyword]"
   ]
  },
  {
   "cell_type": "code",
   "execution_count": 45,
   "metadata": {},
   "outputs": [
    {
     "data": {
      "text/plain": [
       "Counter({'Afghanistan': 14,\n",
       "         'security': 5,\n",
       "         'cooperation': 5,\n",
       "         'terrorism': 5,\n",
       "         'support': 4,\n",
       "         'conflict': 4,\n",
       "         'government': 4,\n",
       "         '': 4,\n",
       "         'peace': 3,\n",
       "         'opportunity': 3,\n",
       "         'Taliban': 3,\n",
       "         'violence': 3,\n",
       "         'economic': 3,\n",
       "         'interests': 3,\n",
       "         'common': 3,\n",
       "         'threat': 3,\n",
       "         'radicalism': 3,\n",
       "         'justice': 2,\n",
       "         'General Assembly': 2,\n",
       "         'United Nations': 2,\n",
       "         'democracy': 2,\n",
       "         'help': 2,\n",
       "         'society': 2,\n",
       "         'development': 2,\n",
       "         'Afghan': 2,\n",
       "         'corruption': 2,\n",
       "         'judicial reform': 2,\n",
       "         'strengthen': 2,\n",
       "         'NATO': 2,\n",
       "         'military': 2,\n",
       "         'safety': 2,\n",
       "         'Da’esh': 2,\n",
       "         'Pakistan': 2,\n",
       "         'agreement': 2,\n",
       "         'region': 2,\n",
       "         'joint': 2,\n",
       "         'establish': 2,\n",
       "         'fight': 2,\n",
       "         'sacrifice': 2,\n",
       "         'martyrs': 2,\n",
       "         'Ahmad Shah Massoud': 2,\n",
       "         'Ustad Burhanuddin Rabbani': 2,\n",
       "         'Secretary-General': 1,\n",
       "         'Ban Ki-moon': 1,\n",
       "         'tireless': 1,\n",
       "         'efforts': 1,\n",
       "         'wise': 1,\n",
       "         'leadership': 1,\n",
       "         'fundamental': 1,\n",
       "         'freedoms': 1,\n",
       "         'rule': 1,\n",
       "         'law': 1,\n",
       "         'all': 1,\n",
       "         'decade': 1,\n",
       "         'seventy-first': 1,\n",
       "         'session': 1,\n",
       "         'Ambassador': 1,\n",
       "         'Peter Thomson': 1,\n",
       "         'prosperity': 1,\n",
       "         'pluralism': 1,\n",
       "         'transition': 1,\n",
       "         'impact': 1,\n",
       "         'international body': 1,\n",
       "         'role': 1,\n",
       "         'example': 1,\n",
       "         'profound': 1,\n",
       "         'influence': 1,\n",
       "         'effect': 1,\n",
       "         'assistance': 1,\n",
       "         'collaboration': 1,\n",
       "         'partnership': 1,\n",
       "         'nation': 1,\n",
       "         'oppression': 1,\n",
       "         'discrimination': 1,\n",
       "         'inequality': 1,\n",
       "         'equality': 1,\n",
       "         'legacy': 1,\n",
       "         'inheritance': 1,\n",
       "         'solution': 1,\n",
       "         'problems': 1,\n",
       "         'foundation': 1,\n",
       "         'ensure': 1,\n",
       "         'freedom': 1,\n",
       "         'rights': 1,\n",
       "         'people': 1,\n",
       "         'power': 1,\n",
       "         'representation': 1,\n",
       "         'accountability': 1,\n",
       "         'achievements': 1,\n",
       "         'good governance': 1,\n",
       "         'register': 1,\n",
       "         'two years': 1,\n",
       "         'pursue': 1,\n",
       "         'well-planned': 1,\n",
       "         'systematic': 1,\n",
       "         'elimination': 1,\n",
       "         'undertake': 1,\n",
       "         'governance': 1,\n",
       "         'women empowerment': 1,\n",
       "         'service delivery': 1,\n",
       "         'UN Office on Drugs and Crime': 1,\n",
       "         'international partners': 1,\n",
       "         'Warsaw': 1,\n",
       "         'Summit': 1,\n",
       "         'July': 1,\n",
       "         'pledge': 1,\n",
       "         'billion': 1,\n",
       "         'National': 1,\n",
       "         'Defence': 1,\n",
       "         'Security': 1,\n",
       "         'Forces': 1,\n",
       "         'Resolute': 1,\n",
       "         'Support': 1,\n",
       "         'Mission': 1,\n",
       "         'extend': 1,\n",
       "         'beyond': 1,\n",
       "         '2016': 1,\n",
       "         'review': 1,\n",
       "         'full': 1,\n",
       "         'National Unity Government': 1,\n",
       "         'undeclared war': 1,\n",
       "         'terrorists': 1,\n",
       "         'groups': 1,\n",
       "         'outside country': 1,\n",
       "         'fighting': 1,\n",
       "         'challenge': 1,\n",
       "         'current situation': 1,\n",
       "         'more than 10': 1,\n",
       "         'terrorist organizations': 1,\n",
       "         'security forces': 1,\n",
       "         'special representative': 1,\n",
       "         'journalists': 1,\n",
       "         'terrorist groups': 1,\n",
       "         'foreign support': 1,\n",
       "         'peaceful': 1,\n",
       "         'civil demonstration': 1,\n",
       "         'attacks.': 1,\n",
       "         'control': 1,\n",
       "         'areas': 1,\n",
       "         'country': 1,\n",
       "         'Kunduz': 1,\n",
       "         'Helmand': 1,\n",
       "         'provinces': 1,\n",
       "         'extremist': 1,\n",
       "         'militants': 1,\n",
       "         'foreign': 1,\n",
       "         'fighters': 1,\n",
       "         'killed': 1,\n",
       "         'captured.': 1,\n",
       "         'Haqqani network': 1,\n",
       "         'leaders': 1,\n",
       "         'location': 1,\n",
       "         'training': 1,\n",
       "         'equipment': 1,\n",
       "         'financing': 1,\n",
       "         'war': 1,\n",
       "         'safe havens': 1,\n",
       "         'neighboring country': 1,\n",
       "         'destruction': 1,\n",
       "         'repeated requests': 1,\n",
       "         'Hezb-e-Islami': 1,\n",
       "         'party': 1,\n",
       "         'positive': 1,\n",
       "         'approach': 1,\n",
       "         'regional': 1,\n",
       "         'countries': 1,\n",
       "         'Islamic': 1,\n",
       "         'world.': 1,\n",
       "         'Islamic countries': 1,\n",
       "         'partnerships': 1,\n",
       "         'cultural': 1,\n",
       "         'social': 1,\n",
       "         'agenda': 1,\n",
       "         'Organization of the Islamic Cooperation': 1,\n",
       "         'promote': 1,\n",
       "         'readiness': 1,\n",
       "         'Islamic country': 1,\n",
       "         'promote peace.': 1,\n",
       "         'foreign policy': 1,\n",
       "         'economy': 1,\n",
       "         'South Asian Association for Regional Cooperation': 1,\n",
       "         'European Community': 1,\n",
       "         'threats': 1,\n",
       "         'railroad': 1,\n",
       "         'against': 1,\n",
       "         'crossroads': 1,\n",
       "         'trade': 1,\n",
       "         'transport': 1,\n",
       "         'economic activities': 1,\n",
       "         'South Asia': 1,\n",
       "         'Central Asia': 1,\n",
       "         'Turkmenistan': 1,\n",
       "         'India': 1,\n",
       "         'pipeline': 1,\n",
       "         'progress': 1,\n",
       "         'projects': 1,\n",
       "         'significant': 1,\n",
       "         'infrastructure': 1,\n",
       "         'connectivity': 1,\n",
       "         'economic cooperation': 1,\n",
       "         'regional integration': 1,\n",
       "         'UN member state': 1,\n",
       "         '51 founding countries': 1,\n",
       "         'neighboring countries': 1,\n",
       "         'stability': 1,\n",
       "         'international community': 1,\n",
       "         'loss': 1,\n",
       "         'Ustad Abdul Ali Mazari': 1,\n",
       "         'front': 1,\n",
       "         'world peace': 1,\n",
       "         'national figures': 1,\n",
       "         'U.N.': 1,\n",
       "         'legal framework': 1,\n",
       "         'combat': 1,\n",
       "         'problem': 1,\n",
       "         'injustice': 1,\n",
       "         'Syria': 1,\n",
       "         'comprehensive solution': 1,\n",
       "         'Syrian conflict': 1,\n",
       "         'will': 1,\n",
       "         'Syrians': 1,\n",
       "         'devestation': 1,\n",
       "         'terror': 1,\n",
       "         'Yemen': 1,\n",
       "         'comprehensive and peaceful solution': 1,\n",
       "         'Palestine': 1,\n",
       "         'international efforts': 1,\n",
       "         'resolve': 1,\n",
       "         'issue': 1,\n",
       "         'Palest': 1,\n",
       "         'Iran': 1,\n",
       "         'nuclear program': 1,\n",
       "         '5+1 countries': 1,\n",
       "         'Democratic Republic of North Korea': 1,\n",
       "         'tests': 1,\n",
       "         'nuclear weapons': 1,\n",
       "         'danger': 1,\n",
       "         'region.': 1,\n",
       "         'family of nations': 1,\n",
       "         'responsible': 1,\n",
       "         'candidates': 1,\n",
       "         'Human Rights Council': 1,\n",
       "         '2018-2020': 1,\n",
       "         'candidacy': 1,\n",
       "         'presentation': 1,\n",
       "         'context.': 1,\n",
       "         'ISAF': 1,\n",
       "         'troops': 1,\n",
       "         'Assembly': 1,\n",
       "         'goals': 1,\n",
       "         'jointly': 1,\n",
       "         'realize': 1,\n",
       "         'continue': 1,\n",
       "         'confidence': 1})"
      ]
     },
     "execution_count": 45,
     "metadata": {},
     "output_type": "execute_result"
    }
   ],
   "source": [
    "from collections import Counter\n",
    "\n",
    "Counter(keywords_flatten)"
   ]
  },
  {
   "cell_type": "code",
   "execution_count": null,
   "metadata": {},
   "outputs": [],
   "source": [
    "from keybert import KeyLLM\n",
    "from sentence_transformers import SentenceTransformer\n",
    "\n",
    "# Extract embeddings\n",
    "model = SentenceTransformer('BAAI/bge-small-en-v1.5')\n",
    "embeddings = model.encode(documents, convert_to_tensor=True)"
   ]
  },
  {
   "cell_type": "code",
   "execution_count": 26,
   "metadata": {},
   "outputs": [],
   "source": [
    "# Load it in KeyLLM\n",
    "kw_model = KeyLLM(llm)\n",
    "\n",
    "# Extract keywords\n",
    "keywords = kw_model.extract_keywords(documents, embeddings=embeddings, threshold=.8)"
   ]
  },
  {
   "cell_type": "code",
   "execution_count": null,
   "metadata": {},
   "outputs": [],
   "source": [
    "keywords"
   ]
  },
  {
   "cell_type": "code",
   "execution_count": null,
   "metadata": {},
   "outputs": [],
   "source": [
    "from keybert import KeyLLM, KeyBERT\n",
    "\n",
    "# Load it in KeyLLM\n",
    "kw_model = KeyBERT(llm=llm, model='BAAI/bge-small-en-v1.5')\n",
    "\n",
    "# Extract keywords\n",
    "keywords = kw_model.extract_keywords(documents,candidates=['inflation'] ,threshold=.5)"
   ]
  },
  {
   "cell_type": "code",
   "execution_count": null,
   "metadata": {},
   "outputs": [],
   "source": [
    "keywords"
   ]
  }
 ],
 "metadata": {
  "kernelspec": {
   "display_name": "699",
   "language": "python",
   "name": "python3"
  },
  "language_info": {
   "codemirror_mode": {
    "name": "ipython",
    "version": 3
   },
   "file_extension": ".py",
   "mimetype": "text/x-python",
   "name": "python",
   "nbconvert_exporter": "python",
   "pygments_lexer": "ipython3",
   "version": "3.11.5"
  }
 },
 "nbformat": 4,
 "nbformat_minor": 2
}
